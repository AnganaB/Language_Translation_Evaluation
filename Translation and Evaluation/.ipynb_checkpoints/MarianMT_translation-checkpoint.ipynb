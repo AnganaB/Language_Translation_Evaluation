{
 "cells": [
  {
   "cell_type": "code",
   "execution_count": null,
   "metadata": {},
   "outputs": [],
   "source": [
    "# This Python 3 environment comes with many helpful analytics libraries installed\n",
    "# It is defined by the kaggle/python Docker image: https://github.com/kaggle/docker-python\n",
    "# For example, here's several helpful packages to load\n",
    "\n",
    "import numpy as np # linear algebra\n",
    "import pandas as pd # data processing, CSV file I/O (e.g. pd.read_csv)\n",
    "\n",
    "# Input data files are available in the read-only \"../input/\" directory\n",
    "# For example, running this (by clicking run or pressing Shift+Enter) will list all files under the input directory\n",
    "\n",
    "import os\n",
    "for dirname, _, filenames in os.walk('/kaggle/input'):\n",
    "    for filename in filenames:\n",
    "        print(os.path.join(dirname, filename))\n",
    "\n",
    "# You can write up to 20GB to the current directory (/kaggle/working/) that gets preserved as output when you create a version using \"Save & Run All\" \n",
    "# You can also write temporary files to /kaggle/temp/, but they won't be saved outside of the current session\n",
    "!pip install transformers"
   ]
  },
  {
   "cell_type": "code",
   "execution_count": null,
   "metadata": {},
   "outputs": [],
   "source": [
    "!pip install SentencePiece"
   ]
  },
  {
   "cell_type": "code",
   "execution_count": null,
   "metadata": {},
   "outputs": [],
   "source": [
    "from transformers.hf_api import HfApi\n",
    "model_list = HfApi().model_list()\n",
    "org = \"Helsinki-NLP\"\n",
    "model_ids = [x.modelId for x in model_list if x.modelId.startswith(org)]\n",
    "suffix = [x.split('/')[1] for x in model_ids]\n",
    "old_style_multi_models = [f'{org}/{s}' for s in suffix if s != s.lower()]"
   ]
  },
  {
   "cell_type": "code",
   "execution_count": null,
   "metadata": {},
   "outputs": [],
   "source": [
    "import time, json,copy,torch\n",
    "\n",
    "from transformers import MarianMTModel, MarianTokenizer\n",
    "import time, json,copy,torch\n",
    "def download_model():\n",
    "    print(\"model loading......\")\n",
    "    model_name = \"Helsinki-NLP/opus-mt-en-roa\"  # name format for language specific models = Helsinki-NLP/opus-mt-{src}-{tgt}\n",
    "    model = MarianMTModel.from_pretrained(model_name)\n",
    "    tokenizer = MarianTokenizer.from_pretrained(model_name)\n",
    "    return model, tokenizer\n",
    "\n",
    "def main():\n",
    "    model, tokenizer = download_model()\n",
    "    model = model.cuda()\n",
    "    src_text = open('../input/all-questions/vqa2AllQuestions.txt','r').readlines() # enter the path for input file\n",
    "    data = [l.replace('\\n','') for l in data]\n",
    "    #start = time.time()\n",
    "    ctr = 0\n",
    "    out_file = open('./target_language_translation.txt','a') # Output file \n",
    "    #try:\n",
    "    for st in range(0,len(data),32):\n",
    "        end = len(data) if st + 32 >len(data) else st+32\n",
    "        q = data[st:end]\n",
    "        translated = model.generate(**tokenizer.prepare_seq2seq_batch(src_text, return_tensors=\"pt\"))\n",
    "        out = [tokenizer.decode(t, skip_special_tokens=True) for t in translated]\n",
    "        print(end, \" samples processesed.\")\n",
    "        for listitem in out:\n",
    "            out_file.write('%s\\n' % listitem)\n",
    "        torch.cuda.empty_cache()\n",
    "   # except:\n",
    "    out_file.close()\n",
    "    print(\"Done!!\")"
   ]
  },
  {
   "cell_type": "code",
   "execution_count": null,
   "metadata": {},
   "outputs": [],
   "source": [
    "model, tokenizer = download_model()"
   ]
  },
  {
   "cell_type": "code",
   "execution_count": null,
   "metadata": {},
   "outputs": [],
   "source": [
    "main()"
   ]
  }
 ],
 "metadata": {
  "kernelspec": {
   "display_name": "Python 3",
   "language": "python",
   "name": "python3"
  },
  "language_info": {
   "codemirror_mode": {
    "name": "ipython",
    "version": 3
   },
   "file_extension": ".py",
   "mimetype": "text/x-python",
   "name": "python",
   "nbconvert_exporter": "python",
   "pygments_lexer": "ipython3",
   "version": "3.8.3"
  }
 },
 "nbformat": 4,
 "nbformat_minor": 4
}
